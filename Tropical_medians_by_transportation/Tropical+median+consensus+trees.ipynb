{
 "cells": [
  {
   "cell_type": "markdown",
   "metadata": {},
   "source": [
    "# Tropical median consensus trees\n",
    "\n",
    "This is the software companion to the article _Tropical medians by transportation_ by [Andrei Comaneci](https://page.math.tu-berlin.de/~comaneci/) and [Michael Joswig](https://page.math.tu-berlin.de/~joswig/).  The computations are explained in detail in Section 5 of that paper.\n",
    "\n",
    "The code presented here employs [$\\texttt{polymake}$ v4.9](https://polymake.org/doku.php/news/release_4_9).\n",
    "In order to run it, you need to call the procedure ``script`` by passing the location of the rules file inside the $\\texttt{polymake}$ terminal.\n",
    "\n",
    "The input comes from equidistant trees generated via R's function $\\textrm{rmtree}$."
   ]
  },
  {
   "cell_type": "code",
   "execution_count": 1,
   "metadata": {},
   "outputs": [],
   "source": [
    "script(\"./computations.pl\");"
   ]
  },
  {
   "cell_type": "markdown",
   "metadata": {},
   "source": [
    "The above command defines three procedures creating tables with timings for computations of Fermat-Weber points:\n",
    "\n",
    "(a) ``table_exact_asym``\n",
    "\n",
    "(b) ``table_exact_sym``\n",
    "\n",
    "(c) ``table_mcf``\n",
    "\n",
    "All of them depend on five parameters\n",
    "\n",
    "(1) ``$max_n_trees``(the maximum number of trees that appear in the table)\n",
    "\n",
    "(2) ``$min_n_leaves`` (the mainimum number of leaves that appear in the table)\n",
    "\n",
    "(3) ``$max_n_leaves`` (the maximum number of leaves that appear in the table)\n",
    "\n",
    "(4) ``$n_iterations`` (the number of iterations that will be performed to obtained averaged timings)\n",
    "\n",
    "(5) ``$output_filename`` (the location of the output file containing the results)\n",
    "\n",
    "which should be passed in this order to the called function."
   ]
  },
  {
   "cell_type": "markdown",
   "metadata": {},
   "source": [
    "## Symmetric tropical Fermat-Weber sets\n",
    "\n",
    "Here we explain how Table 1 in our article was generated.\n",
    "\n",
    "For example, here is how to obtain the timings for the computation of the symmetric Fermat-Weber set for up to 10 trees with 4 to 6 taxa, obtained as average over 2 iterations."
   ]
  },
  {
   "cell_type": "code",
   "execution_count": 2,
   "metadata": {},
   "outputs": [
    {
     "data": {
      "text/html": [
       "<details><summary><pre style=\"display:inline\"><small>Click here for additional output</small></pre></summary>\n",
       "<pre>\n",
       "polymake: used package cdd\n",
       "  cddlib\n",
       "  Implementation of the double description method of Motzkin et al.\n",
       "  Copyright by Komei Fukuda.\n",
       "  http://www-oldurls.inf.ethz.ch/personal/fukudak/cdd_home/\n",
       "\n",
       "</pre>\n",
       "</details>\n"
      ]
     },
     "metadata": {},
     "output_type": "display_data"
    }
   ],
   "source": [
    "table_exact_sym(10, 4, 6, 2, \"./sym_output.tex\");"
   ]
  },
  {
   "cell_type": "markdown",
   "metadata": {},
   "source": [
    "The output contains a $\\LaTeX$ code fragment of a table containing the average timings for the computations (a)-(c).\n",
    "The result of the computation is written to the file \"sym_output.tex\".\n",
    "\n",
    "The first four lines of Table 1 were generated with the parameters $(10,4,7,10)$, the final three lines with parameters $(10,8,10,1)$."
   ]
  },
  {
   "cell_type": "markdown",
   "metadata": {},
   "source": [
    "## Asymmetric tropical Fermat-Weber sets\n",
    "\n",
    "Here we explain how Table 2 in our article was generated.\n",
    "The parameters are the same as before."
   ]
  },
  {
   "cell_type": "code",
   "execution_count": 3,
   "metadata": {},
   "outputs": [],
   "source": [
    "table_exact_asym(10, 4, 6, 2, \"./asym_output.tex\");"
   ]
  },
  {
   "cell_type": "markdown",
   "metadata": {},
   "source": [
    "## Tropical median consensus trees\n",
    "\n",
    "Here we explain how Table 3 in our article was generated.\n",
    "The parameters are the same as before.\n",
    "We are calling [$\\texttt{mcf}$](https://www.zib.de/opt-long_projects/Software/Mcf/), which needs to be installed and properly configured. "
   ]
  },
  {
   "cell_type": "code",
   "execution_count": 4,
   "metadata": {},
   "outputs": [],
   "source": [
    "table_mcf(100, 5, 15, 3, \"./mcf_output.tex\");"
   ]
  },
  {
   "cell_type": "markdown",
   "metadata": {},
   "source": [
    "## Tropical median consensus on trees with 25 leaves\n",
    "\n",
    "Here we explain how Figure 8 was obtained.\n",
    "\n",
    "The function ``timings_mcf`` needs five parameters: ``$input_filename``, ``$output_filename``, ``$min_n_trees``, ``$max_n_trees``, ``$n_iterations``.\n",
    "The first parameter contains the path to the file containing the trees from which we sample and the computation result is written in the file with the path ``$output_filename`` (which is created, if it does not exist already).\n",
    "Then ``$n_iterations`` experiments are made to obtain an average timing for all the values from ``$min_n_trees`` to ``$max_n_trees``.\n",
    "\n",
    "The data for our plot was obtained by executing:"
   ]
  },
  {
   "cell_type": "code",
   "execution_count": 5,
   "metadata": {},
   "outputs": [],
   "source": [
    "timings_mcf(\"./300trees-25leaves.txt\", \"./output_plot.dat\", 1, 299, 100);"
   ]
  },
  {
   "cell_type": "markdown",
   "metadata": {},
   "source": [
    "Beware that the above takes more than a day on a standard desktop computer."
   ]
  }
 ],
 "metadata": {
  "kernelspec": {
   "display_name": "polymake-4.7",
   "language": "polymake",
   "name": "polymake"
  },
  "language_info": {
   "codemirror_mode": "perl",
   "file_extension": ".pl",
   "mimetype": "text/x-polymake",
   "name": "polymake"
  }
 },
 "nbformat": 4,
 "nbformat_minor": 2
}
